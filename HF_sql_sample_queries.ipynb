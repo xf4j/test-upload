{
 "cells": [
  {
   "cell_type": "markdown",
   "metadata": {},
   "source": [
    "# Demo for AHA registry database \n",
    "This notebook demostrates the connection and query from the database.\n",
    "<br />Demo for HF Tables.\n",
    "<br />Created on December 1, 2022.\n",
    "<br />@vihaan-manchanda"
   ]
  },
  {
   "cell_type": "code",
   "execution_count": 2,
   "metadata": {},
   "outputs": [],
   "source": [
    "import psycopg2\n",
    "import pandas as pd"
   ]
  },
  {
   "cell_type": "markdown",
   "metadata": {
    "tags": []
   },
   "source": [
    "## 1. Connection\n",
    "Establish a connection to the database using psycopg2 client."
   ]
  },
  {
   "cell_type": "code",
   "execution_count": 3,
   "metadata": {},
   "outputs": [],
   "source": [
    "con = psycopg2.connect(host='ahadata-pmp.cr9jrs3l96oz.us-east-1.rds.amazonaws.com', \n",
    "                       database='ahadata_pmp', user='root', password='z3]<Be]jzMm4', port=3308)"
   ]
  },
  {
   "cell_type": "markdown",
   "metadata": {},
   "source": [
    "## 2. Explore the database\n",
    "Show all tables of each registry.\n",
    "The table names and fields of each table will be included in a documentation.\n",
    "\n",
    "*Note: it's a good practice to use try/except clause as it will remove the effect of any failed queries. Otherwise you'll encounter an \"current transaction is aborted\" error.*"
   ]
  },
  {
   "cell_type": "code",
   "execution_count": 4,
   "metadata": {},
   "outputs": [
    {
     "name": "stdout",
     "output_type": "stream",
     "text": [
      "hf_hfdemographics\n",
      "hf_hfdischarge\n",
      "hf_hfmeta\n",
      "hf_hfclinicalcodes\n",
      "hf_hfadmin\n",
      "hf_hfmeasures\n",
      "hf_hfpatient\n",
      "hf_hfsite\n",
      "hf_hfinhospital\n",
      "hf_hfadmission\n"
     ]
    }
   ],
   "source": [
    "cur = con.cursor()\n",
    "try:\n",
    "    cur.execute(\"\"\"SELECT table_name FROM information_schema.tables WHERE table_schema = 'public' AND table_name LIKE 'hf%'\"\"\")\n",
    "    for table in cur.fetchall():\n",
    "        print(table[0])\n",
    "except:\n",
    "    cur.rollback()"
   ]
  },
  {
   "cell_type": "code",
   "execution_count": 5,
   "metadata": {},
   "outputs": [
    {
     "data": {
      "text/plain": [
       "['id',\n",
       " 'gender',\n",
       " 'dob',\n",
       " 'dob_prec',\n",
       " 'age',\n",
       " 'zip',\n",
       " 'paysource',\n",
       " 'externalid',\n",
       " 'race',\n",
       " 'asian',\n",
       " 'hisethni',\n",
       " 'ethnicys',\n",
       " 'hawaiian',\n",
       " 'jc_homeless',\n",
       " 'medicarejc',\n",
       " 'patient_id',\n",
       " 'agegroup',\n",
       " 'patgenid',\n",
       " 'patgenidoth',\n",
       " 'patorien',\n",
       " 'patorienoth',\n",
       " 'agei',\n",
       " 'genderi',\n",
       " 'insurancei',\n",
       " 'insurancei_new',\n",
       " 'race2i',\n",
       " 'racei',\n",
       " 'jc_pmtsrce']"
      ]
     },
     "execution_count": 5,
     "metadata": {},
     "output_type": "execute_result"
    }
   ],
   "source": [
    "# to view all the column names  in a particular table\n",
    "cur.execute(\"Select * FROM hf_hfdemographics LIMIT 0\")\n",
    "colnames = [desc[0] for desc in cur.description]\n",
    "colnames"
   ]
  },
  {
   "cell_type": "markdown",
   "metadata": {},
   "source": [
    "## 3. SQL Queries"
   ]
  },
  {
   "cell_type": "code",
   "execution_count": 6,
   "metadata": {},
   "outputs": [],
   "source": [
    "# args: sql_query -> string sql query\n",
    "# Returns a DataFrame corresponding to the result set of the query string\n",
    "\n",
    "def create_pandas_table(sql_query, database = con):\n",
    "    table = pd.read_sql_query(sql_query, database)\n",
    "    return table"
   ]
  },
  {
   "cell_type": "markdown",
   "metadata": {},
   "source": [
    "**3.1 Sample Query that outputs a table**\n",
    "\n",
    "3.1 Use Case: It is useful to sometimes see what a query is returning in tabular form. In this example: We are querying the data to find the patients whose gender is Male."
   ]
  },
  {
   "cell_type": "code",
   "execution_count": 7,
   "metadata": {},
   "outputs": [
    {
     "data": {
      "text/html": [
       "<div>\n",
       "<style scoped>\n",
       "    .dataframe tbody tr th:only-of-type {\n",
       "        vertical-align: middle;\n",
       "    }\n",
       "\n",
       "    .dataframe tbody tr th {\n",
       "        vertical-align: top;\n",
       "    }\n",
       "\n",
       "    .dataframe thead th {\n",
       "        text-align: right;\n",
       "    }\n",
       "</style>\n",
       "<table border=\"1\" class=\"dataframe\">\n",
       "  <thead>\n",
       "    <tr style=\"text-align: right;\">\n",
       "      <th></th>\n",
       "      <th>id</th>\n",
       "      <th>gender</th>\n",
       "      <th>dob</th>\n",
       "      <th>dob_prec</th>\n",
       "      <th>age</th>\n",
       "      <th>zip</th>\n",
       "      <th>paysource</th>\n",
       "      <th>externalid</th>\n",
       "      <th>race</th>\n",
       "      <th>asian</th>\n",
       "      <th>...</th>\n",
       "      <th>patgenidoth</th>\n",
       "      <th>patorien</th>\n",
       "      <th>patorienoth</th>\n",
       "      <th>agei</th>\n",
       "      <th>genderi</th>\n",
       "      <th>insurancei</th>\n",
       "      <th>insurancei_new</th>\n",
       "      <th>race2i</th>\n",
       "      <th>racei</th>\n",
       "      <th>jc_pmtsrce</th>\n",
       "    </tr>\n",
       "  </thead>\n",
       "  <tbody>\n",
       "    <tr>\n",
       "      <th>0</th>\n",
       "      <td>807757</td>\n",
       "      <td>1</td>\n",
       "      <td>None</td>\n",
       "      <td></td>\n",
       "      <td>86.0</td>\n",
       "      <td></td>\n",
       "      <td></td>\n",
       "      <td></td>\n",
       "      <td></td>\n",
       "      <td></td>\n",
       "      <td>...</td>\n",
       "      <td></td>\n",
       "      <td></td>\n",
       "      <td></td>\n",
       "      <td>86.0</td>\n",
       "      <td>0</td>\n",
       "      <td></td>\n",
       "      <td></td>\n",
       "      <td>5</td>\n",
       "      <td>7</td>\n",
       "      <td></td>\n",
       "    </tr>\n",
       "    <tr>\n",
       "      <th>1</th>\n",
       "      <td>807758</td>\n",
       "      <td>1</td>\n",
       "      <td>None</td>\n",
       "      <td></td>\n",
       "      <td>77.0</td>\n",
       "      <td></td>\n",
       "      <td></td>\n",
       "      <td></td>\n",
       "      <td>3</td>\n",
       "      <td></td>\n",
       "      <td>...</td>\n",
       "      <td></td>\n",
       "      <td></td>\n",
       "      <td></td>\n",
       "      <td>77.0</td>\n",
       "      <td>0</td>\n",
       "      <td></td>\n",
       "      <td></td>\n",
       "      <td>1</td>\n",
       "      <td>5</td>\n",
       "      <td></td>\n",
       "    </tr>\n",
       "    <tr>\n",
       "      <th>2</th>\n",
       "      <td>807760</td>\n",
       "      <td>1</td>\n",
       "      <td>None</td>\n",
       "      <td></td>\n",
       "      <td>77.0</td>\n",
       "      <td></td>\n",
       "      <td></td>\n",
       "      <td></td>\n",
       "      <td>3</td>\n",
       "      <td></td>\n",
       "      <td>...</td>\n",
       "      <td></td>\n",
       "      <td></td>\n",
       "      <td></td>\n",
       "      <td>77.0</td>\n",
       "      <td>0</td>\n",
       "      <td>3</td>\n",
       "      <td>3</td>\n",
       "      <td>3</td>\n",
       "      <td>1</td>\n",
       "      <td>5</td>\n",
       "    </tr>\n",
       "    <tr>\n",
       "      <th>3</th>\n",
       "      <td>807762</td>\n",
       "      <td>1</td>\n",
       "      <td>None</td>\n",
       "      <td></td>\n",
       "      <td>63.0</td>\n",
       "      <td>97233</td>\n",
       "      <td></td>\n",
       "      <td></td>\n",
       "      <td>2</td>\n",
       "      <td></td>\n",
       "      <td>...</td>\n",
       "      <td></td>\n",
       "      <td></td>\n",
       "      <td></td>\n",
       "      <td>63.0</td>\n",
       "      <td>0</td>\n",
       "      <td>1</td>\n",
       "      <td>1</td>\n",
       "      <td>2</td>\n",
       "      <td>2</td>\n",
       "      <td>3</td>\n",
       "    </tr>\n",
       "    <tr>\n",
       "      <th>4</th>\n",
       "      <td>807765</td>\n",
       "      <td>1</td>\n",
       "      <td>None</td>\n",
       "      <td></td>\n",
       "      <td>64.0</td>\n",
       "      <td>45013</td>\n",
       "      <td></td>\n",
       "      <td></td>\n",
       "      <td>3</td>\n",
       "      <td></td>\n",
       "      <td>...</td>\n",
       "      <td></td>\n",
       "      <td></td>\n",
       "      <td></td>\n",
       "      <td>64.0</td>\n",
       "      <td>0</td>\n",
       "      <td>4</td>\n",
       "      <td>4</td>\n",
       "      <td>1</td>\n",
       "      <td>5</td>\n",
       "      <td>4</td>\n",
       "    </tr>\n",
       "    <tr>\n",
       "      <th>...</th>\n",
       "      <td>...</td>\n",
       "      <td>...</td>\n",
       "      <td>...</td>\n",
       "      <td>...</td>\n",
       "      <td>...</td>\n",
       "      <td>...</td>\n",
       "      <td>...</td>\n",
       "      <td>...</td>\n",
       "      <td>...</td>\n",
       "      <td>...</td>\n",
       "      <td>...</td>\n",
       "      <td>...</td>\n",
       "      <td>...</td>\n",
       "      <td>...</td>\n",
       "      <td>...</td>\n",
       "      <td>...</td>\n",
       "      <td>...</td>\n",
       "      <td>...</td>\n",
       "      <td>...</td>\n",
       "      <td>...</td>\n",
       "      <td>...</td>\n",
       "    </tr>\n",
       "    <tr>\n",
       "      <th>5028</th>\n",
       "      <td>817748</td>\n",
       "      <td>1</td>\n",
       "      <td>None</td>\n",
       "      <td></td>\n",
       "      <td>70.0</td>\n",
       "      <td>18403</td>\n",
       "      <td>3</td>\n",
       "      <td></td>\n",
       "      <td>3</td>\n",
       "      <td></td>\n",
       "      <td>...</td>\n",
       "      <td></td>\n",
       "      <td></td>\n",
       "      <td></td>\n",
       "      <td>70.0</td>\n",
       "      <td>0</td>\n",
       "      <td></td>\n",
       "      <td>4</td>\n",
       "      <td>1</td>\n",
       "      <td>5</td>\n",
       "      <td></td>\n",
       "    </tr>\n",
       "    <tr>\n",
       "      <th>5029</th>\n",
       "      <td>817750</td>\n",
       "      <td>1</td>\n",
       "      <td>None</td>\n",
       "      <td></td>\n",
       "      <td>95.0</td>\n",
       "      <td></td>\n",
       "      <td></td>\n",
       "      <td></td>\n",
       "      <td>3</td>\n",
       "      <td></td>\n",
       "      <td>...</td>\n",
       "      <td></td>\n",
       "      <td></td>\n",
       "      <td></td>\n",
       "      <td>95.0</td>\n",
       "      <td>0</td>\n",
       "      <td>3</td>\n",
       "      <td>3</td>\n",
       "      <td>1</td>\n",
       "      <td>5</td>\n",
       "      <td>1</td>\n",
       "    </tr>\n",
       "    <tr>\n",
       "      <th>5030</th>\n",
       "      <td>817752</td>\n",
       "      <td>1</td>\n",
       "      <td>None</td>\n",
       "      <td></td>\n",
       "      <td>54.0</td>\n",
       "      <td>36619</td>\n",
       "      <td></td>\n",
       "      <td></td>\n",
       "      <td>4</td>\n",
       "      <td></td>\n",
       "      <td>...</td>\n",
       "      <td></td>\n",
       "      <td></td>\n",
       "      <td></td>\n",
       "      <td>54.0</td>\n",
       "      <td>0</td>\n",
       "      <td>4</td>\n",
       "      <td>4</td>\n",
       "      <td>4</td>\n",
       "      <td>4</td>\n",
       "      <td>4</td>\n",
       "    </tr>\n",
       "    <tr>\n",
       "      <th>5031</th>\n",
       "      <td>817755</td>\n",
       "      <td>1</td>\n",
       "      <td>None</td>\n",
       "      <td></td>\n",
       "      <td>84.0</td>\n",
       "      <td></td>\n",
       "      <td></td>\n",
       "      <td></td>\n",
       "      <td>3</td>\n",
       "      <td></td>\n",
       "      <td>...</td>\n",
       "      <td></td>\n",
       "      <td></td>\n",
       "      <td></td>\n",
       "      <td>84.0</td>\n",
       "      <td>0</td>\n",
       "      <td>2</td>\n",
       "      <td>2</td>\n",
       "      <td>1</td>\n",
       "      <td>5</td>\n",
       "      <td>1;2</td>\n",
       "    </tr>\n",
       "    <tr>\n",
       "      <th>5032</th>\n",
       "      <td>817756</td>\n",
       "      <td>1</td>\n",
       "      <td>None</td>\n",
       "      <td></td>\n",
       "      <td>59.0</td>\n",
       "      <td>80909</td>\n",
       "      <td></td>\n",
       "      <td></td>\n",
       "      <td>2</td>\n",
       "      <td></td>\n",
       "      <td>...</td>\n",
       "      <td></td>\n",
       "      <td></td>\n",
       "      <td></td>\n",
       "      <td>59.0</td>\n",
       "      <td>0</td>\n",
       "      <td>2</td>\n",
       "      <td>2</td>\n",
       "      <td>2</td>\n",
       "      <td>2</td>\n",
       "      <td>2</td>\n",
       "    </tr>\n",
       "  </tbody>\n",
       "</table>\n",
       "<p>5033 rows × 28 columns</p>\n",
       "</div>"
      ],
      "text/plain": [
       "          id gender   dob dob_prec   age    zip paysource externalid race  \\\n",
       "0     807757      1  None           86.0                                    \n",
       "1     807758      1  None           77.0                                3   \n",
       "2     807760      1  None           77.0                                3   \n",
       "3     807762      1  None           63.0  97233                         2   \n",
       "4     807765      1  None           64.0  45013                         3   \n",
       "...      ...    ...   ...      ...   ...    ...       ...        ...  ...   \n",
       "5028  817748      1  None           70.0  18403         3               3   \n",
       "5029  817750      1  None           95.0                                3   \n",
       "5030  817752      1  None           54.0  36619                         4   \n",
       "5031  817755      1  None           84.0                                3   \n",
       "5032  817756      1  None           59.0  80909                         2   \n",
       "\n",
       "     asian  ... patgenidoth patorien patorienoth  agei genderi  insurancei  \\\n",
       "0           ...                                   86.0       0               \n",
       "1           ...                                   77.0       0               \n",
       "2           ...                                   77.0       0           3   \n",
       "3           ...                                   63.0       0           1   \n",
       "4           ...                                   64.0       0           4   \n",
       "...    ...  ...         ...      ...         ...   ...     ...         ...   \n",
       "5028        ...                                   70.0       0               \n",
       "5029        ...                                   95.0       0           3   \n",
       "5030        ...                                   54.0       0           4   \n",
       "5031        ...                                   84.0       0           2   \n",
       "5032        ...                                   59.0       0           2   \n",
       "\n",
       "     insurancei_new race2i racei jc_pmtsrce  \n",
       "0                        5     7             \n",
       "1                        1     5             \n",
       "2                 3      3     1          5  \n",
       "3                 1      2     2          3  \n",
       "4                 4      1     5          4  \n",
       "...             ...    ...   ...        ...  \n",
       "5028              4      1     5             \n",
       "5029              3      1     5          1  \n",
       "5030              4      4     4          4  \n",
       "5031              2      1     5        1;2  \n",
       "5032              2      2     2          2  \n",
       "\n",
       "[5033 rows x 28 columns]"
      ]
     },
     "execution_count": 7,
     "metadata": {},
     "output_type": "execute_result"
    }
   ],
   "source": [
    "sql_statement = \"\"\"SELECT * from hf_hfdemographics\n",
    "WHERE gender = '1'\n",
    "\"\"\"\n",
    "\n",
    "query1 =  create_pandas_table(sql_statement)\n",
    "query1"
   ]
  },
  {
   "cell_type": "markdown",
   "metadata": {},
   "source": [
    "**3.2 Get the total number of patients that are 'Male'**"
   ]
  },
  {
   "cell_type": "code",
   "execution_count": 8,
   "metadata": {},
   "outputs": [
    {
     "name": "stdout",
     "output_type": "stream",
     "text": [
      "Total Number of Male Patients are: 5033\n"
     ]
    }
   ],
   "source": [
    "sql_statement2 = \"\"\"SELECT * from hf_hfdemographics\n",
    "WHERE gender = '1'\n",
    "\"\"\"\n",
    "table2 =  create_pandas_table(sql_statement2)\n",
    "print(\"Total Number of Male Patients are:\", len(table2))"
   ]
  },
  {
   "cell_type": "markdown",
   "metadata": {},
   "source": [
    "**3.3 Complicated Queries** "
   ]
  },
  {
   "cell_type": "markdown",
   "metadata": {},
   "source": [
    "AHAHF6 : Percentage of patients with heart failure who are prescribed an ARNI at hospital discharge(from quality measure doc)"
   ]
  },
  {
   "cell_type": "code",
   "execution_count": 66,
   "metadata": {},
   "outputs": [
    {
     "name": "stdout",
     "output_type": "stream",
     "text": [
      "Denominator is: 5580\n"
     ]
    }
   ],
   "source": [
    "sql_statement3 = \"\"\"SELECT * from hf_hfinhospital \n",
    "INNER JOIN hf_hfadmission\n",
    "ON hf_hfinhospital.id =  hf_hfadmission.id\n",
    "INNER JOIN hf_hfdischarge\n",
    "ON hf_hfinhospital.id =   hf_hfdischarge.id\n",
    "WHERE hfdiagnosis = '4' or hfdiagnosis = '130'\n",
    "and (lvfasmt <= '40' or lvfqual = '3')\n",
    "and (dschstat <> '2' and dschstat <> '3'  and dschstat <> '4'  and dschstat <> '6'  and dschstat <> '7')\n",
    "and (presarni <> '2' and presarni <> '3')\n",
    "and (presarb <> '2' and presarb <> '3')\n",
    "and (arnireason <> '1')\n",
    "and (comfortonly <> '1' and comfortonly <> '2' and comfortonly <> '3')\n",
    "and medhist <> '42'\n",
    "and hfprocedures <> '120' \n",
    "\"\"\"\n",
    "denominator_table_3 =  create_pandas_table(sql_statement3)\n",
    "denominator_3 = len(denominator_table_3)\n",
    "print(\"Denominator is:\", denominator_3)\n"
   ]
  },
  {
   "cell_type": "code",
   "execution_count": 62,
   "metadata": {},
   "outputs": [
    {
     "name": "stdout",
     "output_type": "stream",
     "text": [
      "Numerator is: 257\n"
     ]
    }
   ],
   "source": [
    "# Note, TODO: cast column hrdsch to integer.\n",
    "\n",
    "numerator_5_sql = \"\"\"SELECT *\n",
    "from hf_hfdischarge\n",
    "\n",
    "WHERE presarni = '1'\n",
    "\n",
    "\"\"\"\n",
    "numerator5_query_table =  create_pandas_table(numerator_5_sql)\n",
    "numerator_5 = len(numerator5_query_table)\n",
    "\n",
    "print(\"Numerator is:\", numerator_5)"
   ]
  },
  {
   "cell_type": "code",
   "execution_count": 65,
   "metadata": {},
   "outputs": [
    {
     "name": "stdout",
     "output_type": "stream",
     "text": [
      "4.60573476702509\n"
     ]
    }
   ],
   "source": [
    "percentage_5 = (numerator_5/denominator_3)*100\n",
    "print(percentage_5)"
   ]
  },
  {
   "cell_type": "markdown",
   "metadata": {},
   "source": [
    "## 4. Genral Advice for writing SQL queries"
   ]
  },
  {
   "cell_type": "markdown",
   "metadata": {},
   "source": [
    "1. The first step is to figure out what is the corresponding variable name to the verbose name, and also identifyig the table in which this variable exists.\n",
    "2. To get the variable name one can use a combination of verbose/ human readable column names and compare that with the the variable name which can be found in the meta. An alternative is to look at the config file for the specific registry which is provided.\n",
    "3. Understand the type of join you want to use. Inner joins can be really helpful.\n",
    "4. The registry specific quality measure document is a good strating point to write queries."
   ]
  }
 ],
 "metadata": {
  "kernelspec": {
   "display_name": "Python 3",
   "language": "python",
   "name": "python3"
  },
  "language_info": {
   "codemirror_mode": {
    "name": "ipython",
    "version": 3
   },
   "file_extension": ".py",
   "mimetype": "text/x-python",
   "name": "python",
   "nbconvert_exporter": "python",
   "pygments_lexer": "ipython3",
   "version": "3.7.15"
  }
 },
 "nbformat": 4,
 "nbformat_minor": 4
}
